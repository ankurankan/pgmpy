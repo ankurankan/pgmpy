{
  "cells": [
    {
      "cell_type": "markdown",
      "metadata": {},
      "source": [
        "# Learning Tree-augmented Bayesian Network (TAN) Structure from Data"
      ]
    },
    {
      "cell_type": "markdown",
      "metadata": {},
      "source": [
        "## First, create a Naive Bayes graph"
      ]
    },
    {
      "cell_type": "code",
      "metadata": {},
      "source": [
        "import networkx as nx\n",
        "import matplotlib.pyplot as plt\n",
        "\n",
        "from pgmpy.models.BayesianModel import BayesianModel\n",
        "\n",
        "# class variable is A and feature variables are B, C, D, E and R\n",
        "model = BayesianModel([('A', 'R'), ('A', 'B'), ('A', 'C'), ('A', 'D'), ('A', 'E')])\n",
        "nx.draw_circular(model, with_labels=True, arrowsize=30, node_size=700, alpha=0.3)\n",
        "plt.show()\n"
      ],
      "outputs": [],
      "execution_count": null
    },
    {
      "cell_type": "markdown",
      "metadata": {},
      "source": [
        "## Second, add interaction between the features"
      ]
    },
    {
      "cell_type": "code",
      "metadata": {},
      "source": [
        "# feature R correlates with other features\n",
        "model.add_edges_from([('R', 'B'), ('R', 'C'), ('R', 'D'), ('R', 'E')])\n",
        "nx.draw_circular(model, with_labels=True, arrowsize=30, node_size=700, alpha=0.3)\n",
        "plt.show()\n"
      ],
      "outputs": [],
      "execution_count": null
    },
    {
      "cell_type": "markdown",
      "metadata": {},
      "source": [
        "## Then, parameterize our graph to create a Bayesian network"
      ]
    },
    {
      "cell_type": "code",
      "metadata": {},
      "source": [
        "from pgmpy.factors.discrete import TabularCPD\n",
        "\n",
        "# add CPD to each edge\n",
        "cpd_a = TabularCPD('A', 2, [[0.7], [0.3]])\n",
        "cpd_r = TabularCPD('R',3,[[0.6,0.2],[0.3,0.5],[0.1,0.3]],evidence=['A'], evidence_card=[2])\n",
        "cpd_b = TabularCPD('B',3,[[0.1,0.1,0.2,0.2,0.7,0.1],\n",
        "                          [0.1,0.3,0.1,0.2,0.1,0.2],\n",
        "                          [0.8,0.6,0.7,0.6,0.2,0.7]],\n",
        "                          evidence=['A','R'], evidence_card=[2,3])\n",
        "cpd_c = TabularCPD('C',2,[[0.7,0.2,0.2,0.5,0.1,0.3],\n",
        "                          [0.3,0.8,0.8,0.5,0.9,0.7]],\n",
        "                          evidence=['A','R'], evidence_card=[2,3])\n",
        "cpd_d = TabularCPD('D',3,[[0.3,0.8,0.2,0.8,0.4,0.7],\n",
        "                          [0.4,0.1,0.4,0.1,0.1,0.1],\n",
        "                          [0.3,0.1,0.4,0.1,0.5,0.2]],\n",
        "                          evidence=['A','R'], evidence_card=[2,3])\n",
        "cpd_e = TabularCPD('E',2,[[0.5,0.6,0.6,0.5,0.5,0.4],\n",
        "                          [0.5,0.4,0.4,0.5,0.5,0.6]],\n",
        "                          evidence=['A','R'], evidence_card=[2,3])\n",
        "model.add_cpds(cpd_a, cpd_r, cpd_b, cpd_c, cpd_d, cpd_e)\n"
      ],
      "outputs": [],
      "execution_count": null
    },
    {
      "cell_type": "markdown",
      "metadata": {},
      "source": [
        "## Next, generate sample data from our Bayesian network"
      ]
    },
    {
      "cell_type": "code",
      "metadata": {},
      "source": [
        "from pgmpy.sampling import BayesianModelSampling\n",
        "\n",
        "# sample data from BN\n",
        "inference = BayesianModelSampling(model)\n",
        "df_data = inference.forward_sample(size=10000, return_type='dataframe')\n",
        "print(df_data)\n"
      ],
      "outputs": [],
      "execution_count": null
    },
    {
      "cell_type": "markdown",
      "metadata": {},
      "source": [
        "## Now we are ready to learn the TAN structure from sample data"
      ]
    },
    {
      "cell_type": "code",
      "metadata": {},
      "source": [
        "from pgmpy.estimators import TreeSearch\n",
        "\n",
        "# learn graph structure \n",
        "est = TreeSearch(df_data, root_node='R', return_type='tan', class_node='A')\n",
        "dag = est.estimate()\n",
        "nx.draw_circular(dag, with_labels=True, arrowsize=30, node_size=700, alpha=0.3)\n",
        "plt.show()\n"
      ],
      "outputs": [],
      "execution_count": null
    },
    {
      "cell_type": "markdown",
      "metadata": {},
      "source": [
        "## To parameterize the learned graph from data, check out the other tutorials for more info"
      ]
    },
    {
      "cell_type": "code",
      "metadata": {},
      "source": [
        "from pgmpy.estimators import BayesianEstimator\n",
        "\n",
        "# there are many choices of parametrization, here is one example\n",
        "model = BayesianModel(dag.edges())\n",
        "model.fit(df_data, estimator=BayesianEstimator, prior_type='dirichlet', pseudo_counts=0.1)\n",
        "\n"
      ],
      "outputs": [],
      "execution_count": null
    }
  ],
  "metadata": {
    "anaconda-cloud": {},
    "kernelspec": {
      "display_name": "Python 3",
      "language": "python",
      "name": "python3"
    },
    "language_info": {
      "codemirror_mode": {
        "name": "ipython",
        "version": 3
      },
      "file_extension": ".py",
      "mimetype": "text/x-python",
      "name": "python",
      "nbconvert_exporter": "python",
      "pygments_lexer": "ipython3",
      "version": "3.6.1"
    }
  },
  "nbformat": 4,
  "nbformat_minor": 1
}